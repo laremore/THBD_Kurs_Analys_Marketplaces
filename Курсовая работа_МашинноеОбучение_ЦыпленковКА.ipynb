{
 "cells": [
  {
   "cell_type": "code",
   "execution_count": null,
   "id": "6e9a9af8-a9fc-4f68-a8fb-4e383f26c2e6",
   "metadata": {},
   "outputs": [],
   "source": [
    "Чтение файла и первичное знакомство с содержимым"
   ]
  },
  {
   "cell_type": "code",
   "execution_count": null,
   "id": "f3087d7e-0452-4495-8f7a-9713a0d34003",
   "metadata": {},
   "outputs": [],
   "source": [
    "import pandas as pd\n",
    "df = pd.read_excel(\"Dataset 1.xlsx\")\n",
    "print(\"Названия столбцов:\")\n",
    "print(df.columns)\n",
    "\n",
    "print(\"\\nУникальные значения в 'Тип парка':\")\n",
    "print(df['Тип парка'].unique())\n",
    "\n",
    "df_local = df[df['Тип парка'].str.contains(\"Местный\", case=False, na=False)].copy()\n",
    "\n",
    "print(f\"\\nРазмер данных с типом парка 'Местный': {df_local.shape}\")\n",
    "print(\"\\nПервые строки:\")\n",
    "print(df_local.head())\n"
   ]
  },
  {
   "cell_type": "code",
   "execution_count": null,
   "id": "2fa5e644-9bfa-4aec-9c07-7205e2622b6b",
   "metadata": {},
   "outputs": [],
   "source": [
    "Разветочный анализ (EDA)"
   ]
  },
  {
   "cell_type": "code",
   "execution_count": null,
   "id": "7ebef24e-56eb-4948-a92f-e020c6d1d7fe",
   "metadata": {},
   "outputs": [],
   "source": [
    "import matplotlib.pyplot as plt\n",
    "import seaborn as sns\n",
    "\n",
    "print(\"Информация о целевой переменной 'Срок доставки факт':\")\n",
    "print(df_local['Срок доставки факт'].describe())\n",
    "print(\"\\nКоличество пропусков:\", df_local['Срок доставки факт'].isna().sum())\n",
    "\n",
    "plt.figure(figsize=(10, 5))\n",
    "sns.histplot(df_local['Срок доставки факт'].dropna(), bins=50, kde=True)\n",
    "plt.title('Распределение целевой переменной «Срок доставки факт»')\n",
    "plt.xlabel('Срок доставки факт')\n",
    "plt.ylabel('Количество записей')\n",
    "plt.grid()\n",
    "plt.tight_layout()\n",
    "plt.show()"
   ]
  },
  {
   "cell_type": "code",
   "execution_count": null,
   "id": "b5f9eecf-9fe8-45c0-b5c3-d31e737fd3a4",
   "metadata": {},
   "outputs": [],
   "source": [
    "Обзор типа данных и проверка данных на пустые значения"
   ]
  },
  {
   "cell_type": "code",
   "execution_count": null,
   "id": "1ba49646-20d9-449b-aa5e-f08a3e466c32",
   "metadata": {},
   "outputs": [],
   "source": [
    "df_local.info()\n",
    "\n",
    "mis_data = df_local.isnull().sum()\n",
    "mis_data = mis_data[mis_data > 0].sort_values(ascending=False)\n",
    "\n",
    "mis_perc = (mis_data / len(df_local)).sort_values(ascending=False)\n",
    "\n",
    "mis_sum = pd.DataFrame({\n",
    "    'Количество пропусков': mis_data,\n",
    "    'Доля пропусков (%)': (mis_perc * 100).round(2)\n",
    "})\n",
    "\n",
    "print(\"\\nСтолбцы с пропущенными значениями:\")\n",
    "print(mis_sum.head(20))  \n"
   ]
  },
  {
   "cell_type": "code",
   "execution_count": null,
   "id": "6d46077a-7f8c-46b9-a123-cb76ab8e0998",
   "metadata": {},
   "outputs": [],
   "source": [
    "Удаление признаков с отсутсвующими признаками и строк без целевой переменной"
   ]
  },
  {
   "cell_type": "code",
   "execution_count": null,
   "id": "46e797d3-90ae-4a6a-b1e3-75f34a387fbf",
   "metadata": {},
   "outputs": [],
   "source": [
    "df_model = df_local.dropna(axis=1, how='all')\n",
    "\n",
    "df_model = df_model[df_model['Срок доставки факт'].notna()].copy()\n",
    "\n",
    "print(f\"Размер набора после очистки: {df_model.shape}\")\n"
   ]
  },
  {
   "cell_type": "code",
   "execution_count": null,
   "id": "6d94a520-4a99-4278-884a-86ecaf14d6bb",
   "metadata": {},
   "outputs": [],
   "source": [
    "Просмотр признаков для анализа:"
   ]
  },
  {
   "cell_type": "code",
   "execution_count": null,
   "id": "cd65cfdc-b571-4b90-a080-37b6bcb98b8f",
   "metadata": {},
   "outputs": [],
   "source": [
    "print(\"Первые 30 признаков:\")\n",
    "print(df_model.columns[:30].tolist())\n"
   ]
  },
  {
   "cell_type": "code",
   "execution_count": null,
   "id": "106ebcfe-dcdb-4f03-8db6-d673d907795e",
   "metadata": {},
   "outputs": [],
   "source": [
    "Анализ признаков, влияющих на целевую переменную, на основе матрицы корреляции"
   ]
  },
  {
   "cell_type": "code",
   "execution_count": 1,
   "id": "6becc619-8447-497e-bb1e-c004ed683be0",
   "metadata": {},
   "outputs": [
    {
     "ename": "SyntaxError",
     "evalue": "invalid syntax (2327352157.py, line 2)",
     "output_type": "error",
     "traceback": [
      "\u001b[1;36m  Cell \u001b[1;32mIn[1], line 2\u001b[1;36m\u001b[0m\n\u001b[1;33m    import matplotlib.pyplot as plnumeric_features = [\u001b[0m\n\u001b[1;37m                                                   ^\u001b[0m\n\u001b[1;31mSyntaxError\u001b[0m\u001b[1;31m:\u001b[0m invalid syntax\n"
     ]
    }
   ],
   "source": [
    "import seaborn as sns\n",
    "import matplotlib.pyplot as plt\n",
    "numeric_features = [\n",
    "    'Вес груза (кг)', \n",
    "    'Пробег в груженом состоянии (км)', \n",
    "    'Пробег в порожнем состоянии (км)', \n",
    "    'Пробег общий (км)', \n",
    "    'Норматив величины пробега (км)', \n",
    "    'Остаток пробега (км)', \n",
    "    'Нормативный срок доставки', \n",
    "    'Расстояние пройденное (км)', \n",
    "    'Простой', \n",
    "    'Срок доставки факт'\n",
    "]\n",
    "\n",
    "df_model.columns = df_model.columns.str.strip()\n",
    "\n",
    "plt.figure(figsize=(12, 8))\n",
    "corr_matrix = df_model[numeric_features].corr()\n",
    "sns.heatmap(corr_matrix, annot=True, fmt=\".2f\", cmap=\"coolwarm\", square=True)\n",
    "plt.title(\"Корреляционная матрица признаков и целевой переменной\")\n",
    "plt.tight_layout()\n",
    "plt.show()\n"
   ]
  },
  {
   "cell_type": "code",
   "execution_count": null,
   "id": "ba35c646-a518-48d0-8328-bfdeb6e9f57a",
   "metadata": {},
   "outputs": [],
   "source": [
    "Генерация признаков"
   ]
  },
  {
   "cell_type": "code",
   "execution_count": null,
   "id": "cc00028b-18f0-4979-ab4e-5c27263292d7",
   "metadata": {},
   "outputs": [],
   "source": [
    "import pandas as pd\n",
    "import numpy as np\n",
    "\n",
    "df_feat = df_model.copy()\n",
    "\n",
    "df_feat['Время_в_пути (ч)'] = (df_feat['Дата и время окончания рейса'] - df_feat['Дата и время начала рейса']).dt.total_seconds() / 3600\n",
    "df_feat['Дата_начала_год'] = df_feat['Дата и время начала рейса'].dt.year\n",
    "df_feat['Дата_начала_месяц'] = df_feat['Дата и время начала рейса'].dt.month\n",
    "df_feat['Дата_начала_день_недели'] = df_feat['Дата и время начала рейса'].dt.dayofweek\n",
    "\n",
    "cat = [\n",
    "    'Род вагона', \n",
    "    'Наименование груза', \n",
    "    'Станция отправления', \n",
    "    'Станция назначения', \n",
    "    'Оператор'\n",
    "]\n",
    "\n",
    "for col in cat:\n",
    "    df_feat[col] = df_feat[col].astype(str).str.strip()\n",
    "\n",
    "num = [\n",
    "    'Вес груза (кг)',\n",
    "    'Пробег общий (км)',\n",
    "    'Норматив величины пробега (км)',\n",
    "    'Нормативный срок доставки',\n",
    "    'Расстояние пройденное (км)',\n",
    "    'Простой',\n",
    "    'Время_в_пути (ч)'\n",
    "]\n",
    "\n",
    "\n",
    "target = 'Срок доставки факт'\n",
    "\n",
    "\n",
    "df_final = df_feat[catl + num + [\n",
    "    'Дата_начала_год', 'Дата_начала_месяц', 'Дата_начала_день_недели',\n",
    "    target\n",
    "]].dropna()\n",
    "\n",
    "print(\"Форма витрины данных:\", df_final.shape)\n",
    "print(\"Признаки для моделирования:\")\n",
    "print(df_final.columns.tolist())\n"
   ]
  },
  {
   "cell_type": "code",
   "execution_count": null,
   "id": "f0d18398-fb0a-4660-8e89-8ff88db992be",
   "metadata": {},
   "outputs": [],
   "source": [
    "Разделение на обучающую и тестовые выборки"
   ]
  },
  {
   "cell_type": "code",
   "execution_count": null,
   "id": "3b414066-9985-4759-a528-27776af0f87a",
   "metadata": {},
   "outputs": [],
   "source": [
    "from sklearn.model_selection import train_test_split\n",
    "from sklearn.preprocessing import OneHotEncoder\n",
    "\n",
    "X = df_final.drop(columns=['Срок доставки факт'])\n",
    "y = df_final['Срок доставки факт']\n",
    "\n",
    "X_encoded = pd.get_dummies(X, drop_first=True)\n",
    "\n",
    "X_train, X_test, y_train, y_test = train_test_split(\n",
    "    X_encoded, y, test_size=0.2, random_state=42\n",
    ")\n",
    "\n",
    "print(\"Размер обучающей выборки:\", X_train.shape)\n",
    "print(\"Размер тестовой выборки:\", X_test.shape)\n"
   ]
  },
  {
   "cell_type": "code",
   "execution_count": null,
   "id": "dec0d5d5-e923-42a2-9902-0fafc1b0b751",
   "metadata": {},
   "outputs": [],
   "source": [
    "Построение модели с помощью AutoML (baseline)"
   ]
  },
  {
   "cell_type": "code",
   "execution_count": null,
   "id": "d21c5e7c-6f38-4346-8d67-277d60df5525",
   "metadata": {},
   "outputs": [],
   "source": [
    "from lazypredict.Supervised import LazyRegressor\n",
    "from sklearn.metrics import mean_absolute_error, r2_score\n",
    "import time\n",
    "\n",
    "start_time = time.time()\n",
    "\n",
    "model = LazyRegressor(verbose=1, ignore_warnings=True, custom_metric=None)\n",
    "models, predictions = model.fit(X_train, X_test, y_train, y_test)\n",
    "\n",
    "print(f\"\\nВремя выполнения AutoML baseline: {round(time.time() - start_time, 2)} сек.\")\n",
    "print(\"\\nРезультаты:\")\n",
    "print(models)\n"
   ]
  },
  {
   "cell_type": "code",
   "execution_count": null,
   "id": "37bff064-3882-48e1-8cb4-724d8cdf4c3d",
   "metadata": {},
   "outputs": [],
   "source": [
    "Ручное моделирование (RandomForest, XGBoost)"
   ]
  },
  {
   "cell_type": "code",
   "execution_count": null,
   "id": "6a71469d-3f21-43d8-b25d-aa3a25baaccc",
   "metadata": {},
   "outputs": [],
   "source": [
    "import pandas as pd\n",
    "import numpy as np\n",
    "from sklearn.model_selection import train_test_split\n",
    "from sklearn.ensemble import RandomForestRegressor\n",
    "from xgboost import XGBRegressor\n",
    "from lightgbm import LGBMRegressor\n",
    "from sklearn.metrics import mean_squared_error, mean_absolute_error, r2_score\n",
    "from sklearn.preprocessing import LabelEncoder\n",
    "\n",
    "def clean_column_names(df):\n",
    "    df.columns = [str(col).replace('(', '').replace(')', '').replace(' ', '_').replace('-', '_').replace('/', '_')\n",
    "                 for col in df.columns]\n",
    "    return df\n",
    "\n",
    "df = pd.read_excel(\"Dataset 1.xlsx\")\n",
    "\n",
    "df = df[df[\"Тип парка\"].str.contains(\"Местный\", na=False)]\n",
    "\n",
    "\n",
    "date_cols = df.select_dtypes(include=['datetime64', 'datetime64[ns]']).columns\n",
    "df = df.drop(columns=date_cols)\n",
    "\n",
    "categorical_cols = df.select_dtypes(include=['object']).columns\n",
    "for col in categorical_cols:\n",
    "    df[col] = LabelEncoder().fit_transform(df[col].astype(str))\n",
    "\n",
    "X = df.drop(\"Срок доставки факт\", axis=1)\n",
    "y = df[\"Срок доставки факт\"]\n",
    "\n",
    "X = clean_column_names(X)\n",
    "\n",
    "X = X.fillna(X.median())\n",
    "y = y.fillna(y.median())\n",
    "\n",
    "X_train, X_test, y_train, y_test = train_test_split(X, y, test_size=0.2, random_state=42)\n",
    "\n",
    "results = {}\n",
    "\n",
    "rf = RandomForestRegressor(n_estimators=100, random_state=42)\n",
    "rf.fit(X_train, y_train)\n",
    "y_pred_rf = rf.predict(X_test)\n",
    "\n",
    "results['RandomForest'] = {\n",
    "    'R2': r2_score(y_test, y_pred_rf),\n",
    "    'RMSE': np.sqrt(mean_squared_error(y_test, y_pred_rf)),\n",
    "    'MAE': mean_absolute_error(y_test, y_pred_rf)\n",
    "}\n",
    "\n",
    "xgb = XGBRegressor(n_estimators=100, learning_rate=0.1, max_depth=6, random_state=42)\n",
    "xgb.fit(X_train, y_train)\n",
    "y_pred_xgb = xgb.predict(X_test)\n",
    "\n",
    "results['XGBoost'] = {\n",
    "    'R2': r2_score(y_test, y_pred_xgb),\n",
    "    'RMSE': np.sqrt(mean_squared_error(y_test, y_pred_xgb)),\n",
    "    'MAE': mean_absolute_error(y_test, y_pred_xgb)\n",
    "}\n",
    "\n",
    "\n",
    "for model_name, metrics in results.items():\n",
    "    print(f\"\\n{model_name}:\")\n",
    "    for metric_name, value in metrics.items():\n",
    "        print(f\"  {metric_name}: {value:.4f}\")\n"
   ]
  },
  {
   "cell_type": "code",
   "execution_count": null,
   "id": "85b766c3-32b3-42ee-9062-debb4c393231",
   "metadata": {},
   "outputs": [],
   "source": [
    "Получение интерпретации XGBoost"
   ]
  },
  {
   "cell_type": "code",
   "execution_count": null,
   "id": "38ca8aab-2ec2-4152-a321-b80aa541d218",
   "metadata": {},
   "outputs": [],
   "source": [
    "importances = xgb.feature_importances_\n",
    "feature_names = X_test.columns\n",
    "\n",
    "sorted_idx = importances.argsort()[::-1][:20]\n",
    "plt.figure(figsize=(10, 6))\n",
    "plt.barh(range(len(sorted_idx)), importances[sorted_idx])\n",
    "plt.yticks(range(len(sorted_idx)), feature_names[sorted_idx])\n",
    "plt.gca().invert_yaxis()\n",
    "plt.title(\"Топ-20 наиболее важных признаков (XGBoost)\")\n",
    "plt.xlabel(\"Важность\")\n",
    "plt.tight_layout()\n",
    "plt.show()\n"
   ]
  },
  {
   "cell_type": "code",
   "execution_count": null,
   "id": "0e061100-15b8-4a1e-bf60-811d162b435e",
   "metadata": {},
   "outputs": [],
   "source": [
    "Локальная интерпретация с помощью Lime"
   ]
  },
  {
   "cell_type": "code",
   "execution_count": null,
   "id": "3b062d49-d1f0-4eac-affc-10c2ac0ce51f",
   "metadata": {},
   "outputs": [],
   "source": [
    "import lime\n",
    "import lime.lime_tabular\n",
    "\n",
    "samples = X_test.iloc[[0, 1, 2]]\n",
    "sample_array = samples.values\n",
    "\n",
    "explainer = lime.lime_tabular.LimeTabularExplainer(\n",
    "    training_data=X_train.values,\n",
    "    feature_names=X_train.columns.tolist(),\n",
    "    mode='regression'\n",
    ")\n",
    "\n",
    "for i in range(3):\n",
    "    print(f\"\\nИнтерпретация наблюдения {i}\")\n",
    "    explanation = explainer.explain_instance(\n",
    "        data_row=sample_array[i],\n",
    "        predict_fn=xgb.predict,\n",
    "        num_features=10\n",
    "    )\n",
    "    explanation.save_to_file(f'lime_explanation_{i}.html')  \n",
    "\n"
   ]
  }
 ],
 "metadata": {
  "kernelspec": {
   "display_name": "Python [conda env:base] *",
   "language": "python",
   "name": "conda-base-py"
  },
  "language_info": {
   "codemirror_mode": {
    "name": "ipython",
    "version": 3
   },
   "file_extension": ".py",
   "mimetype": "text/x-python",
   "name": "python",
   "nbconvert_exporter": "python",
   "pygments_lexer": "ipython3",
   "version": "3.12.7"
  }
 },
 "nbformat": 4,
 "nbformat_minor": 5
}
